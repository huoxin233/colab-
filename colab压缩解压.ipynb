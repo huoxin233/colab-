{
  "nbformat": 4,
  "nbformat_minor": 0,
  "metadata": {
    "colab": {
      "name": "colab压缩解压.ipynb",
      "provenance": [],
      "collapsed_sections": [],
      "toc_visible": true
    },
    "kernelspec": {
      "name": "python3",
      "display_name": "Python 3"
    }
  },
  "cells": [
    {
      "cell_type": "markdown",
      "metadata": {
        "id": "tdHkmd6olkGV"
      },
      "source": [
        "# **<font size=\"10\"><center>压缩&解压缩 for Colab</center>**</font>\n",
        "<center><font size=\"5\">by huoxin</font></center>\n",
        "\n",
        "---\n",
        "---\n",
        "\n",
        "\n",
        "\n"
      ]
    },
    {
      "cell_type": "markdown",
      "metadata": {
        "id": "HwWksCIads_a"
      },
      "source": [
        "用前提醒：\n",
        "\n",
        "1.请点击上面的复制到云端硬盘（保存一份到自己的云盘），然后再进行操作，直接本页面运行的所有操作将对他人可见！！！\n",
        "\n",
        "2.过大的压缩包解压可能会用满colab的硬盘而导致colab实例重启"
      ]
    },
    {
      "cell_type": "markdown",
      "metadata": {
        "id": "3Z8cK8h2Avbv"
      },
      "source": [
        "### <font size=5px color=\"#95C7AE\">防止Google Colab自动断开代码:</font>\n",
        "<p><font size=3px > 每60分钟自动运行代码刷新，解除90分钟断开限制.\n",
        "<p><font size=3px > 使用方法：colab页面按下 F12或者 Ctrl+Shift+I    (mac按 Option+Command+I) 在console（控制台） 输入以下代码并回车. </p><b>复制以下代码粘贴在浏览器console！！不要关闭浏览器以免失效</b>\n",
        "\n",
        "\n",
        "```javascript\n",
        "function ConnectButton(){\n",
        "    console.log(\"Connect pushed\"); \n",
        "    document.querySelector(\"#connect\").click() \n",
        "}\n",
        "setInterval(ConnectButton,60000);\n",
        "```"
      ]
    },
    {
      "cell_type": "code",
      "metadata": {
        "id": "jtClEMAMLVHw",
        "cellView": "form",
        "outputId": "5df384b4-0ead-408d-8ea6-cc3903523a84",
        "colab": {
          "base_uri": "https://localhost:8080/",
          "height": 34
        }
      },
      "source": [
        "#@markdown <h3>← 输入了代码后运行以防止断开</h>\n",
        "\n",
        "\n",
        "import IPython\n",
        "from google.colab import output\n",
        "\n",
        "display(IPython.display.Javascript('''\n",
        " function ClickConnect(){\n",
        "   btn = document.querySelector(\"colab-connect-button\")\n",
        "   if (btn != null){\n",
        "     console.log(\"Click colab-connect-button\"); \n",
        "     btn.click() \n",
        "     }\n",
        "   \n",
        "   btn = document.getElementById('ok')\n",
        "   if (btn != null){\n",
        "     console.log(\"Click reconnect\"); \n",
        "     btn.click() \n",
        "     }\n",
        "  }\n",
        "  \n",
        "setInterval(ClickConnect,60000)\n",
        "'''))\n",
        "\n",
        "print(\"Done.\")"
      ],
      "execution_count": null,
      "outputs": [
        {
          "output_type": "display_data",
          "data": {
            "application/javascript": [
              "\n",
              " function ClickConnect(){\n",
              "   btn = document.querySelector(\"colab-connect-button\")\n",
              "   if (btn != null){\n",
              "     console.log(\"Click colab-connect-button\"); \n",
              "     btn.click() \n",
              "     }\n",
              "   \n",
              "   btn = document.getElementById('ok')\n",
              "   if (btn != null){\n",
              "     console.log(\"Click reconnect\"); \n",
              "     btn.click() \n",
              "     }\n",
              "  }\n",
              "  \n",
              "setInterval(ClickConnect,60000)\n"
            ],
            "text/plain": [
              "<IPython.core.display.Javascript object>"
            ]
          },
          "metadata": {
            "tags": []
          }
        },
        {
          "output_type": "stream",
          "text": [
            "Done.\n"
          ],
          "name": "stdout"
        }
      ]
    },
    {
      "cell_type": "markdown",
      "metadata": {
        "id": "CFFPQjl-iX0m"
      },
      "source": [
        "# **<font size=\"6\"><center>映射gd盘到colab</center>**</font>\n",
        "\n",
        "\n",
        "---\n",
        "<center><img src=\"https://i.ibb.co/yPqB75v/output-onlinepngtools.png\" alt=\"output-onlinepngtools\" border=\"0\"></center>\n",
        "\n"
      ]
    },
    {
      "cell_type": "code",
      "metadata": {
        "id": "TfWtGXmqbggL"
      },
      "source": [
        "from google.colab import drive\n",
        "drive.mount('/content/drive', force_remount=True)"
      ],
      "execution_count": null,
      "outputs": []
    },
    {
      "cell_type": "markdown",
      "metadata": {
        "id": "IoAshgcf45gs"
      },
      "source": [
        "# **<font size=\"6\"><center>ZIP</center>**</font>\n",
        "\n",
        "---\n",
        "\n",
        "<center><img src=\"https://i.ibb.co/Dg66pDB/156361082210525933.png\" alt=\"156361082210525933\" border=\"0\"></center>\n"
      ]
    },
    {
      "cell_type": "markdown",
      "metadata": {
        "id": "jtcZjIaLVnGs"
      },
      "source": [
        "<center>\n",
        "\n",
        "###压缩\n",
        "\n",
        "</center>"
      ]
    },
    {
      "cell_type": "code",
      "metadata": {
        "id": "k2mmYT5vVpO8"
      },
      "source": [
        "!zip -r \"/content/压缩文件.zip\" \"/content/drive/My Drive/需要压缩的目录\""
      ],
      "execution_count": null,
      "outputs": []
    },
    {
      "cell_type": "markdown",
      "metadata": {
        "id": "n5jr-js4Vq6Q"
      },
      "source": [
        "<center>\n",
        "\n",
        "###解压\n",
        "\n",
        "---\n",
        "\n",
        "密码参数\n",
        "\n",
        "普通：-P 1234\n",
        "\n",
        "中文密码：-P \"$(echo -n 这是一中文密码|iconv -f utf-8 -t gbk)\"\n",
        "\n",
        "---\n",
        "\n",
        "解压中文文件名出现乱码需加上：-O GBK\n",
        "\n",
        "---\n",
        "</center>\n",
        "\n"
      ]
    },
    {
      "cell_type": "code",
      "metadata": {
        "id": "O1_kc7HBeslm"
      },
      "source": [
        "#colab解压到colab\n",
        "!unzip \"/content/文件.zip\" -d \"/content/\""
      ],
      "execution_count": null,
      "outputs": []
    },
    {
      "cell_type": "code",
      "metadata": {
        "id": "KF_mD5oPi5Sc"
      },
      "source": [
        "#gd解压到colab （容易超出配额）（不建议！）\n",
        "!unzip \"/content/drive/My Drive/文件.zip\" -d \"/content/\""
      ],
      "execution_count": null,
      "outputs": []
    },
    {
      "cell_type": "markdown",
      "metadata": {
        "id": "bAls_UEYfwIX"
      },
      "source": [
        "\n",
        "\n",
        "---\n",
        "\n",
        "\n",
        "\n",
        "---\n",
        "\n",
        "\n",
        "\n",
        "---\n",
        "\n"
      ]
    },
    {
      "cell_type": "markdown",
      "metadata": {
        "id": "yR8YTqYHioZ-"
      },
      "source": [
        "# **<font size=\"6\"><center>RAR</center>**</font>\n",
        "\n",
        "---\n",
        "\n",
        "<center><img src=\"https://i.ibb.co/tK5Jhxs/output-onlinepngtools.png\" alt=\"156361082210525933\" border=\"0\"></center>\n"
      ]
    },
    {
      "cell_type": "markdown",
      "metadata": {
        "id": "bO9j50mBYG8O"
      },
      "source": [
        "<center>\n",
        "\n",
        "###压缩\n",
        "\n",
        "</center>"
      ]
    },
    {
      "cell_type": "code",
      "metadata": {
        "id": "DxQuDNWaYG8P"
      },
      "source": [
        "!rar a \"/content/压缩文件.rar\" \"/content/drive/My Drive/需要压缩的目录\""
      ],
      "execution_count": null,
      "outputs": []
    },
    {
      "cell_type": "markdown",
      "metadata": {
        "id": "1sQ_6mNxYG8U"
      },
      "source": [
        "<center>\n",
        "\n",
        "###解压\n",
        "\n",
        "---\n",
        "\n",
        "密码参数 -p这是一个密码\n",
        "\n",
        "---\n",
        "\n",
        "覆盖现有文件：-o+\n",
        "\n",
        "不覆盖现有文件：-o-\n",
        "\n",
        "对所有查询都假设为是：-y\n",
        "\n",
        "---\n"
      ]
    },
    {
      "cell_type": "code",
      "metadata": {
        "id": "LBjOYK3VYG8U"
      },
      "source": [
        "#colab解压到colab\n",
        "!unrar x \"/content/文件.rar\" \"/content/\""
      ],
      "execution_count": null,
      "outputs": []
    },
    {
      "cell_type": "code",
      "metadata": {
        "id": "usocnqgpYG8W"
      },
      "source": [
        "#gd解压到colab （容易超出配额）（不建议！）\n",
        "!unrar x \"/content/drive/My Drive/文件.zip\" \"/content/\""
      ],
      "execution_count": null,
      "outputs": []
    },
    {
      "cell_type": "markdown",
      "metadata": {
        "id": "CB5HnyE6kzqS"
      },
      "source": [
        "\n",
        "\n",
        "---\n",
        "\n",
        "\n",
        "\n",
        "---\n",
        "\n",
        "\n",
        "\n",
        "---\n",
        "\n"
      ]
    },
    {
      "cell_type": "markdown",
      "metadata": {
        "id": "maRI1qHmHhBL"
      },
      "source": [
        "# **<font size=\"6\"><center>7Zip</center>**</font>\n",
        "\n",
        "---\n",
        "\n",
        "<center><img src=\"https://upload.wikimedia.org/wikipedia/commons/thumb/f/f2/7ziplogo.svg/168px-7ziplogo.svg.png\" alt=\"156361082210525933\" border=\"0\"></center>"
      ]
    },
    {
      "cell_type": "markdown",
      "metadata": {
        "id": "ehwQXNPja1p3"
      },
      "source": [
        "<center>\n",
        "\n",
        "###压缩\n",
        "\n",
        "</center>"
      ]
    },
    {
      "cell_type": "code",
      "metadata": {
        "id": "d4wGjPaKa1p6"
      },
      "source": [
        "!7z a -r \"/content/压缩文件.7z\" \"/content/drive/My Drive/需要压缩的目录\""
      ],
      "execution_count": null,
      "outputs": []
    },
    {
      "cell_type": "markdown",
      "metadata": {
        "id": "UUyY3hEza1qB"
      },
      "source": [
        "<center>\n",
        "\n",
        "###解压\n",
        "\n",
        "---\n",
        "\n",
        "密码参数\n",
        "\n",
        "普通：-p1234\n",
        "\n",
        "中文密码：-p\"$(echo -n 这是一中文密码|iconv -f utf-8 -t gbk)\"\n",
        "\n",
        "---\n",
        "</center>\n",
        "\n"
      ]
    },
    {
      "cell_type": "code",
      "metadata": {
        "id": "nc0HsWGua1qC"
      },
      "source": [
        "#colab解压到colab\n",
        "!7z x \"/content/压缩文件.7z\" -o\"/content/解压到的目录/\""
      ],
      "execution_count": null,
      "outputs": []
    },
    {
      "cell_type": "code",
      "metadata": {
        "id": "YI0KDvQZa1qH"
      },
      "source": [
        "#gd解压到colab （容易超出配额）（不建议！）\n",
        "!7z x \"/content/drive/My Drive/文件.7z\" -o\"/content/解压到的目录/\""
      ],
      "execution_count": null,
      "outputs": []
    },
    {
      "cell_type": "markdown",
      "metadata": {
        "id": "2v7t1WllHwcQ"
      },
      "source": [
        "\n",
        "\n",
        "---\n",
        "\n",
        "\n",
        "\n",
        "---\n",
        "\n",
        "\n",
        "\n",
        "---\n",
        "\n"
      ]
    }
  ]
}